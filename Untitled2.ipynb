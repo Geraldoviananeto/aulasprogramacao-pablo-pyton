{
  "nbformat": 4,
  "nbformat_minor": 0,
  "metadata": {
    "colab": {
      "provenance": [],
      "authorship_tag": "ABX9TyNhlWICyQegr6eWQJzLc1UJ",
      "include_colab_link": true
    },
    "kernelspec": {
      "name": "python3",
      "display_name": "Python 3"
    },
    "language_info": {
      "name": "python"
    }
  },
  "cells": [
    {
      "cell_type": "markdown",
      "metadata": {
        "id": "view-in-github",
        "colab_type": "text"
      },
      "source": [
        "<a href=\"https://colab.research.google.com/github/Geraldoviananeto/aulasprogramacao-pablo-pyton/blob/main/Untitled2.ipynb\" target=\"_parent\"><img src=\"https://colab.research.google.com/assets/colab-badge.svg\" alt=\"Open In Colab\"/></a>"
      ]
    },
    {
      "cell_type": "code",
      "execution_count": 3,
      "metadata": {
        "id": "Y4P0rC1jKSnQ"
      },
      "outputs": [],
      "source": [
        "notas = [5, 7, 9, 10, 20]"
      ]
    },
    {
      "cell_type": "code",
      "source": [
        "for nota in notas:\n",
        "  if(nota >= 7):\n",
        "    print(nota)"
      ],
      "metadata": {
        "colab": {
          "base_uri": "https://localhost:8080/"
        },
        "id": "pj4mWi6FKY1L",
        "outputId": "0209cc77-9ca1-4370-e6ca-cc51f3d2c57e"
      },
      "execution_count": 4,
      "outputs": [
        {
          "output_type": "stream",
          "name": "stdout",
          "text": [
            "7\n",
            "9\n",
            "10\n",
            "20\n"
          ]
        }
      ]
    },
    {
      "cell_type": "code",
      "source": [
        "#Exiba a quantidade de aprovador e reprovados\n",
        "aprovados = 0\n",
        "reprovador = 0\n",
        "for nota in notas:\n",
        "  if(nota>=7):\n",
        "    aprovados +=1\n",
        "  else:\n",
        "    reprovador +=1 \n",
        "\n",
        "print('aprovados:', aprovados)\n",
        "print('reprovados:', reprovador)\n"
      ],
      "metadata": {
        "colab": {
          "base_uri": "https://localhost:8080/"
        },
        "id": "PVK2fEAyK3EC",
        "outputId": "e90dbee3-8761-4910-bc9a-f0f2b72811ae"
      },
      "execution_count": 8,
      "outputs": [
        {
          "output_type": "stream",
          "name": "stdout",
          "text": [
            "aprovados: 4\n",
            "reprovados: 1\n"
          ]
        }
      ]
    },
    {
      "cell_type": "code",
      "source": [
        "#Criar um programa que lista os numeros de 1 a 10\n",
        "#para issto, precisaremos de um contador\n",
        "#while=enquanto\n",
        "cont = 1\n",
        "numeros = []\n",
        "\n",
        "while (cont <=10):\n",
        "  numeros.append(cont)\n",
        "  cont += 1\n",
        "\n",
        "numeros\n"
      ],
      "metadata": {
        "colab": {
          "base_uri": "https://localhost:8080/"
        },
        "id": "xzQBFSb3QDIL",
        "outputId": "09328389-5097-46ac-b8a6-4c461fe9b641"
      },
      "execution_count": 22,
      "outputs": [
        {
          "output_type": "execute_result",
          "data": {
            "text/plain": [
              "[1, 2, 3, 4, 5, 6, 7, 8, 9, 10]"
            ]
          },
          "metadata": {},
          "execution_count": 22
        }
      ]
    },
    {
      "cell_type": "code",
      "source": [
        "#modifique o codigo anterior, para solicitar um tamanho de lista\n",
        "#X e com o laço while, crie a nova lista, do tamanho desejado.\n",
        "cont = 1\n",
        "numeros = []\n",
        "tamanho = int(input('Digite man o tamain da lista namoral:'))\n",
        "\n",
        "\n",
        "while (cont <= tamanho):\n",
        "  numeros.append(cont)\n",
        "  cont += 1\n",
        "\n",
        "numeros"
      ],
      "metadata": {
        "id": "VlcJMlgfSVmF",
        "outputId": "2a4e869a-db42-4938-a98f-2f2fd644aa0c",
        "colab": {
          "base_uri": "https://localhost:8080/"
        }
      },
      "execution_count": 25,
      "outputs": [
        {
          "name": "stdout",
          "output_type": "stream",
          "text": [
            "Digite man o tamain da lista namoral:4\n"
          ]
        },
        {
          "output_type": "execute_result",
          "data": {
            "text/plain": [
              "[1, 2, 3, 4]"
            ]
          },
          "metadata": {},
          "execution_count": 25
        }
      ]
    },
    {
      "cell_type": "code",
      "source": [
        "#inserir nomes de cidades.\n",
        "#o laço encerra, quando digitar 0.\n",
        "#! e = e para falar diferente!!\n",
        "cidades = []\n",
        "city = input(' Digite o nome de uma cidade ')\n",
        "\n",
        "while(city != '0'):\n",
        "  cidades.append(city)\n",
        "  city = input(' Digite o nome de uma cidade ')\n",
        "\n",
        "\n",
        "\n",
        "cidades\n",
        "\n",
        "\n"
      ],
      "metadata": {
        "id": "_0wlLTBZUxJf",
        "outputId": "cf40027c-1d9a-4273-ab49-f400024761a9",
        "colab": {
          "base_uri": "https://localhost:8080/"
        }
      },
      "execution_count": 50,
      "outputs": [
        {
          "name": "stdout",
          "output_type": "stream",
          "text": [
            " Digite o nome de uma cidade 0\n"
          ]
        },
        {
          "output_type": "execute_result",
          "data": {
            "text/plain": [
              "[]"
            ]
          },
          "metadata": {},
          "execution_count": 50
        }
      ]
    },
    {
      "cell_type": "code",
      "source": [
        "#digite um numero e faca ele dizer se ele e impar ou par!!\n",
        "numeros = []\n",
        "num = int(input('Digite um numero : '))\n",
        "\n",
        "while(num >= 0):\n",
        "  if(num % 2 == 0):\n",
        "    print('E par ')\n",
        "    num = int(input('Digite um numero : '))\n",
        "  else:\n",
        "    print('E impar')\n",
        "    num = int(input('Digite um numero : '))\n",
        "\n",
        "print('Acabou o codigo')"
      ],
      "metadata": {
        "id": "9n2Djdc5YE_p",
        "outputId": "f9808800-6c4a-4e5f-875c-bf6a30fb524c",
        "colab": {
          "base_uri": "https://localhost:8080/"
        }
      },
      "execution_count": 52,
      "outputs": [
        {
          "output_type": "stream",
          "name": "stdout",
          "text": [
            "Digite um numero : 30\n",
            "E par \n",
            "Digite um numero : 30\n",
            "E par \n",
            "Digite um numero : 56\n",
            "E par \n",
            "Digite um numero : 97\n",
            "E impar\n",
            "Digite um numero : 30\n",
            "E par \n",
            "Digite um numero : -8\n",
            "Acabou o codigo\n"
          ]
        }
      ]
    }
  ]
}