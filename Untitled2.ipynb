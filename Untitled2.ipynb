{
  "nbformat": 4,
  "nbformat_minor": 0,
  "metadata": {
    "colab": {
      "provenance": [],
      "authorship_tag": "ABX9TyOlp6C2mIXKwN/RzE5B7LbC",
      "include_colab_link": true
    },
    "kernelspec": {
      "name": "python3",
      "display_name": "Python 3"
    },
    "language_info": {
      "name": "python"
    }
  },
  "cells": [
    {
      "cell_type": "markdown",
      "metadata": {
        "id": "view-in-github",
        "colab_type": "text"
      },
      "source": [
        "<a href=\"https://colab.research.google.com/github/Geraldoviananeto/aulasprogramacao-pablo-pyton/blob/main/Untitled2.ipynb\" target=\"_parent\"><img src=\"https://colab.research.google.com/assets/colab-badge.svg\" alt=\"Open In Colab\"/></a>"
      ]
    },
    {
      "cell_type": "code",
      "execution_count": 3,
      "metadata": {
        "id": "Y4P0rC1jKSnQ"
      },
      "outputs": [],
      "source": [
        "notas = [5, 7, 9, 10, 20]"
      ]
    },
    {
      "cell_type": "code",
      "source": [
        "for nota in notas:\n",
        "  if(nota >= 7):\n",
        "    print(nota)"
      ],
      "metadata": {
        "colab": {
          "base_uri": "https://localhost:8080/"
        },
        "id": "pj4mWi6FKY1L",
        "outputId": "0209cc77-9ca1-4370-e6ca-cc51f3d2c57e"
      },
      "execution_count": 4,
      "outputs": [
        {
          "output_type": "stream",
          "name": "stdout",
          "text": [
            "7\n",
            "9\n",
            "10\n",
            "20\n"
          ]
        }
      ]
    },
    {
      "cell_type": "code",
      "source": [
        "#Exiba a quantidade de aprovador e reprovados\n",
        "aprovados = 0\n",
        "reprovador = 0\n",
        "for nota in notas:\n",
        "  if(nota>=7):\n",
        "    aprovados +=1\n",
        "  else:\n",
        "    reprovador +=1 \n",
        "\n",
        "print('aprovados:', aprovados)\n",
        "print('reprovados:', reprovador)\n"
      ],
      "metadata": {
        "id": "PVK2fEAyK3EC",
        "outputId": "e90dbee3-8761-4910-bc9a-f0f2b72811ae",
        "colab": {
          "base_uri": "https://localhost:8080/"
        }
      },
      "execution_count": 8,
      "outputs": [
        {
          "output_type": "stream",
          "name": "stdout",
          "text": [
            "aprovados: 4\n",
            "reprovados: 1\n"
          ]
        }
      ]
    },
    {
      "cell_type": "code",
      "source": [],
      "metadata": {
        "id": "xzQBFSb3QDIL"
      },
      "execution_count": null,
      "outputs": []
    }
  ]
}