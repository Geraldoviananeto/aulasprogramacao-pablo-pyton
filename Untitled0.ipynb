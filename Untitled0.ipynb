{
  "nbformat": 4,
  "nbformat_minor": 0,
  "metadata": {
    "colab": {
      "provenance": [],
      "authorship_tag": "ABX9TyNQxl1vJAoakEHnMVh8sSGA",
      "include_colab_link": true
    },
    "kernelspec": {
      "name": "python3",
      "display_name": "Python 3"
    },
    "language_info": {
      "name": "python"
    }
  },
  "cells": [
    {
      "cell_type": "markdown",
      "metadata": {
        "id": "view-in-github",
        "colab_type": "text"
      },
      "source": [
        "<a href=\"https://colab.research.google.com/github/Geraldoviananeto/aulasprogramacao-pablo-pyton/blob/main/Untitled0.ipynb\" target=\"_parent\"><img src=\"https://colab.research.google.com/assets/colab-badge.svg\" alt=\"Open In Colab\"/></a>"
      ]
    },
    {
      "cell_type": "code",
      "execution_count": 3,
      "metadata": {
        "colab": {
          "base_uri": "https://localhost:8080/"
        },
        "id": "s00VtKwJ73TI",
        "outputId": "d2d96e50-3fb4-40aa-c281-bfe1bfbc20ab"
      },
      "outputs": [
        {
          "output_type": "stream",
          "name": "stdout",
          "text": [
            "Digite a idade do atleta!50\n",
            "juvenil\n"
          ]
        }
      ],
      "source": [
        "#atividade prof pablo de idade\n",
        "idade = int(input(\"Digite a idade do atleta!\"))\n",
        "if(idade< 14):\n",
        "  print('infantil')\n",
        "elif(idade >18):\n",
        "  print('juvenil')\n",
        "else:\n",
        "  print('Senior')   "
      ]
    },
    {
      "cell_type": "code",
      "source": [
        "#primeira lista de numeros, string tem aspas e numeros nao\n",
        "num = [1,5,4,9,8]"
      ],
      "metadata": {
        "id": "qJii5m1FAStb"
      },
      "execution_count": 7,
      "outputs": []
    },
    {
      "cell_type": "code",
      "source": [
        "#tamanho de uma lista e len!\n",
        "len(num)\n"
      ],
      "metadata": {
        "colab": {
          "base_uri": "https://localhost:8080/"
        },
        "id": "QVqL5Wf1BkG-",
        "outputId": "58a19e02-76a6-4804-8e11-bb69a7d0f84c"
      },
      "execution_count": 8,
      "outputs": [
        {
          "output_type": "execute_result",
          "data": {
            "text/plain": [
              "5"
            ]
          },
          "metadata": {},
          "execution_count": 8
        }
      ]
    },
    {
      "cell_type": "code",
      "source": [
        "#lista de outros tipos\n",
        "alunos = ['Mariana','Geraldo', 'Igor','Ailton','Fernanda']"
      ],
      "metadata": {
        "id": "kDDt9taHCGh3"
      },
      "execution_count": 10,
      "outputs": []
    },
    {
      "cell_type": "code",
      "source": [
        "len(alunos)"
      ],
      "metadata": {
        "colab": {
          "base_uri": "https://localhost:8080/"
        },
        "id": "vr68HgdbEOY4",
        "outputId": "6816a41d-e9c8-457c-e171-f4e720380497"
      },
      "execution_count": 11,
      "outputs": [
        {
          "output_type": "execute_result",
          "data": {
            "text/plain": [
              "5"
            ]
          },
          "metadata": {},
          "execution_count": 11
        }
      ]
    },
    {
      "cell_type": "code",
      "source": [
        "#alterar os valores de itens de lista\n",
        "alunos[3] = 'Fabricia'\n",
        "alunos[4] = 'Clara'\n",
        "alunos[2] = 'aylla'\n",
        "alunos\n"
      ],
      "metadata": {
        "colab": {
          "base_uri": "https://localhost:8080/"
        },
        "id": "2KGucWXWDplP",
        "outputId": "300293ec-deb1-4b44-8aa3-8121654c487e"
      },
      "execution_count": 13,
      "outputs": [
        {
          "output_type": "execute_result",
          "data": {
            "text/plain": [
              "['Mariana', 'Geraldo', 'aylla', 'Fabricia', 'Clara']"
            ]
          },
          "metadata": {},
          "execution_count": 13
        }
      ]
    },
    {
      "cell_type": "code",
      "source": [
        "#inserir valores na lista .append()\n",
        "alunos.append('Ailton')\n",
        "alunos\n"
      ],
      "metadata": {
        "colab": {
          "base_uri": "https://localhost:8080/"
        },
        "id": "prhQDRSNFi2x",
        "outputId": "9aa85c80-5397-4cb4-e083-75837dbbd992"
      },
      "execution_count": 15,
      "outputs": [
        {
          "output_type": "execute_result",
          "data": {
            "text/plain": [
              "['Mariana', 'Geraldo', 'aylla', 'Fabricia', 'Clara', 'Ailton']"
            ]
          },
          "metadata": {},
          "execution_count": 15
        }
      ]
    },
    {
      "cell_type": "code",
      "source": [
        "#adicionar automatico so digitar (input('oque vc quer q faça':))\n",
        "alunos.append(input('Digite o nome:'))\n",
        "alunos"
      ],
      "metadata": {
        "colab": {
          "base_uri": "https://localhost:8080/"
        },
        "id": "G0EhgI6KGefG",
        "outputId": "68937175-ed9a-4e4d-96fa-3779c6bb5264"
      },
      "execution_count": 18,
      "outputs": [
        {
          "name": "stdout",
          "output_type": "stream",
          "text": [
            "Digite o nome:pedro\n"
          ]
        },
        {
          "output_type": "execute_result",
          "data": {
            "text/plain": [
              "['Mariana',\n",
              " 'Geraldo',\n",
              " 'aylla',\n",
              " 'Fabricia',\n",
              " 'Clara',\n",
              " 'Ailton',\n",
              " 'igor',\n",
              " 'lais',\n",
              " 'pedro']"
            ]
          },
          "metadata": {},
          "execution_count": 18
        }
      ]
    },
    {
      "cell_type": "code",
      "source": [
        " #Descobrir se há um valor determinado na lista(procurar um nome)\n",
        "if 'Geraldo' in alunos:\n",
        "   print('Tem Geraldo simmm!')\n",
        "else:\n",
        "     print('Tem Geraldo naaaaooo')\n",
        "  "
      ],
      "metadata": {
        "colab": {
          "base_uri": "https://localhost:8080/"
        },
        "id": "b8lDQqpNMx2D",
        "outputId": "14e4ca6a-aa39-42eb-bb4c-9577ab0f45f6"
      },
      "execution_count": 19,
      "outputs": [
        {
          "output_type": "stream",
          "name": "stdout",
          "text": [
            "Tem Geraldo simmm!\n"
          ]
        }
      ]
    },
    {
      "cell_type": "code",
      "source": [
        "#automatiza automatico\n",
        "nome = input('digite o nome:')\n",
        "if nome in alunos:\n",
        "  print('tem', nome)\n",
        "else:\n",
        "  print('nao tem', nome)"
      ],
      "metadata": {
        "colab": {
          "base_uri": "https://localhost:8080/"
        },
        "id": "JpQOPNkkP0nL",
        "outputId": "5fa983d1-335e-4a5c-d685-490622096e6c"
      },
      "execution_count": 24,
      "outputs": [
        {
          "output_type": "stream",
          "name": "stdout",
          "text": [
            "digite o nome:Geraldo\n",
            "tem Geraldo\n"
          ]
        }
      ]
    },
    {
      "cell_type": "code",
      "source": [
        "#deletar um item especifico da lista de compras\n",
        "del alunos[2]\n",
        "alunos"
      ],
      "metadata": {
        "colab": {
          "base_uri": "https://localhost:8080/"
        },
        "id": "eNVynPStOlGX",
        "outputId": "4f29f17d-a1fa-447d-c9b8-1bae9ea9ac73"
      },
      "execution_count": 25,
      "outputs": [
        {
          "output_type": "execute_result",
          "data": {
            "text/plain": [
              "['Mariana', 'Geraldo', 'Fabricia', 'Clara', 'Ailton', 'igor', 'lais', 'pedro']"
            ]
          },
          "metadata": {},
          "execution_count": 25
        }
      ]
    },
    {
      "cell_type": "code",
      "source": [
        "#Criar uma lista com numeros de 1 a 15\n",
        "numeros = []\n",
        "for num in range(15):\n",
        "  numeros.append(num)\n",
        "numeros\n"
      ],
      "metadata": {
        "colab": {
          "base_uri": "https://localhost:8080/"
        },
        "id": "5ScmZYMMTLIX",
        "outputId": "bafecc16-417e-4e1a-fbcc-c18c8466736f"
      },
      "execution_count": 26,
      "outputs": [
        {
          "output_type": "execute_result",
          "data": {
            "text/plain": [
              "[0, 1, 2, 3, 4, 5, 6, 7, 8, 9, 10, 11, 12, 13, 14]"
            ]
          },
          "metadata": {},
          "execution_count": 26
        }
      ]
    },
    {
      "cell_type": "code",
      "source": [
        "#Descobrir se um numero e par\n",
        "a = 8\n",
        "if a%2 == 0:\n",
        "  print('e par')\n",
        "else:\n",
        "  print('e impar')"
      ],
      "metadata": {
        "colab": {
          "base_uri": "https://localhost:8080/"
        },
        "id": "7jOUY1giXgr9",
        "outputId": "ccef214d-a20f-4fc8-f09b-504e780f1014"
      },
      "execution_count": 32,
      "outputs": [
        {
          "output_type": "stream",
          "name": "stdout",
          "text": [
            "e par\n"
          ]
        }
      ]
    },
    {
      "cell_type": "code",
      "source": [
        "#imprimir os valores pares\n",
        "for num in numeros:\n",
        " if numeros[num]%2 == 0:\n",
        "   print(numeros[num])"
      ],
      "metadata": {
        "colab": {
          "base_uri": "https://localhost:8080/"
        },
        "id": "3CAvwqJQXwPd",
        "outputId": "d0aed605-d88f-4a63-a670-ab334fab3a07"
      },
      "execution_count": 40,
      "outputs": [
        {
          "output_type": "stream",
          "name": "stdout",
          "text": [
            "0\n",
            "2\n",
            "4\n",
            "6\n",
            "8\n",
            "10\n",
            "12\n",
            "14\n"
          ]
        }
      ]
    }
  ]
}